{
  "nbformat": 4,
  "nbformat_minor": 0,
  "metadata": {
    "colab": {
      "name": "Youtube Downloader",
      "provenance": [],
      "collapsed_sections": [],
      "authorship_tag": "ABX9TyPG63TzWvxHHnH3JV8K92Y2",
      "include_colab_link": true
    },
    "kernelspec": {
      "name": "python3",
      "display_name": "Python 3"
    }
  },
  "cells": [
    {
      "cell_type": "markdown",
      "metadata": {
        "id": "view-in-github",
        "colab_type": "text"
      },
      "source": [
        "<a href=\"https://colab.research.google.com/github/Aakash-Uchana/Colab-Documents/blob/main/Youtube_Downloader.ipynb\" target=\"_parent\"><img src=\"https://colab.research.google.com/assets/colab-badge.svg\" alt=\"Open In Colab\"/></a>"
      ]
    },
    {
      "cell_type": "code",
      "metadata": {
        "id": "pEGrUCLy61H4"
      },
      "source": [
        "!pip install ipywidgets \r\n",
        "!pip install pytube"
      ],
      "execution_count": null,
      "outputs": []
    },
    {
      "cell_type": "code",
      "metadata": {
        "id": "Rswhvk0T6x0R"
      },
      "source": [
        "#@title Youtube Downloader\r\n",
        "from pytube import YouTube\r\n",
        "from datetime import datetime\r\n",
        "from tqdm import trange\r\n",
        "\r\n",
        "class Size:\r\n",
        "  def __init__(self, value):\r\n",
        "    self.value = value\r\n",
        "\r\n",
        "  def Update(self, value):\r\n",
        "    self.value = value\r\n",
        "  \r\n",
        "  def RoundVal(self):\r\n",
        "    val = self.value\r\n",
        "    while val > 1024:\r\n",
        "      val = val / 1024\r\n",
        "\r\n",
        "    return round(val, 3)\r\n",
        "\r\n",
        "  def Bytes(self):\r\n",
        "    return self.value\r\n",
        "\r\n",
        "  def Unit(self):\r\n",
        "    val = self.value\r\n",
        "    count = 0\r\n",
        "    while val > 1024 and count < 3:\r\n",
        "      val = val / 1024\r\n",
        "      count = count + 1\r\n",
        "\r\n",
        "    if count == 0:\r\n",
        "      return \"bytes\"\r\n",
        "    elif count == 1:\r\n",
        "      return \"KB\"\r\n",
        "    elif count == 2:\r\n",
        "      return \"MB\"\r\n",
        "    return \"GB\"\r\n",
        "\r\n",
        "class YoutubeDownloader:\r\n",
        "  def __init__(self, download_link, save_path, time_delay):\r\n",
        "    self.link = download_link\r\n",
        "    self.path = save_path\r\n",
        "    \r\n",
        "    self.downloaded = Size(0)\r\n",
        "    self.total = Size(0)\r\n",
        "    self.delay = time_delay\r\n",
        "\r\n",
        "    self.slider = trange(100, desc='', leave=False)\r\n",
        "     \r\n",
        "\r\n",
        "  def Start(self, quality):\r\n",
        "    yt = YouTube(self.link, on_progress_callback = self.__ProgressCallback)\r\n",
        "    mp4stream = yt.streams.get_by_resolution(quality)\r\n",
        "    \r\n",
        "    self.total.Update(mp4stream.filesize)\r\n",
        "    self.name = mp4stream.default_filename\r\n",
        "    self.time = datetime.now()\r\n",
        "    \r\n",
        "    mp4stream.download(self.path)\r\n",
        "\r\n",
        "\r\n",
        "  def Print(self):\r\n",
        "    output = \"{0} {1}/{2} {3} : {4}\".format(self.downloaded.RoundVal(),\r\n",
        "                                         self.downloaded.Unit(), \r\n",
        "                                         self.total.RoundVal(), \r\n",
        "                                         self.total.Unit(),\r\n",
        "                                         self.name)\r\n",
        "    percent = (self.downloaded.Bytes() / self.total.Bytes() * 100)\r\n",
        "\r\n",
        "    self.slider.set_description(output)\r\n",
        "    self.slider.update(round(percent, 2) - self.slider.n)\r\n",
        "\r\n",
        "\r\n",
        "  def __ProgressCallback(self, stream, chunks, remain):\r\n",
        "    self.downloaded.Update(self.total.Bytes() - remain)\r\n",
        "    if (datetime.now() - self.time).total_seconds() > self.delay:\r\n",
        "      self.time = datetime.now()\r\n",
        "      self.Print()\r\n",
        "\r\n",
        "Link = 'https://www.youtube.com/watch?v=_uQrJ0TkZlc' #@param {type:\"string\"}\r\n",
        "SaveLocation = '/content/Python' #@param {type:\"string\"}\r\n",
        "TimeDelayForOutput = \"0.125\" #@param {type:\"string\"}\r\n",
        "Quality = '720p' #@param{type:\"string\"}\r\n",
        "ytd = YoutubeDownloader(Link, SaveLocation, float(TimeDelayForOutput))\r\n",
        "ytd.Start(Quality)"
      ],
      "execution_count": null,
      "outputs": []
    }
  ]
}